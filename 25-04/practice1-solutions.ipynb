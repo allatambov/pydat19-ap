{
 "cells": [
  {
   "cell_type": "markdown",
   "metadata": {},
   "source": [
    "## Практикум 1: решения"
   ]
  },
  {
   "cell_type": "markdown",
   "metadata": {},
   "source": [
    "### Задача 1"
   ]
  },
  {
   "cell_type": "code",
   "execution_count": 2,
   "metadata": {},
   "outputs": [],
   "source": [
    "girls = [\"Иветта\", \"Виолетта\", \"Кассандра\", \"Вирджиния\", \n",
    "         \"Амелия\", \"Розамунда\", \"Янина\", \"Беатриса\"]"
   ]
  },
  {
   "cell_type": "code",
   "execution_count": 3,
   "metadata": {},
   "outputs": [
    {
     "name": "stdout",
     "output_type": "stream",
     "text": [
      "['Виолетта', 'Кассандра', 'Вирджиния', 'Амелия']\n",
      "['Вирджиния', 'Амелия', 'Розамунда', 'Янина', 'Беатриса']\n",
      "['Иветта', 'Виолетта', 'Вирджиния', 'Амелия']\n",
      "['Кассандра', 'Амелия', 'Розамунда']\n"
     ]
    }
   ],
   "source": [
    "print(girls[1:5]) # 1\n",
    "print(girls[3:]) # 2\n",
    "print(girls[0:2] + girls[3:5]) # 3\n",
    "print(girls[2:3] + girls[4:6]) # 4"
   ]
  },
  {
   "cell_type": "markdown",
   "metadata": {},
   "source": [
    "Насчет последнего списка: его можно получить и иначе, но нужно иметь в виду, что выбор одного объекта без среза вернет не список, а отдельную строку, которую нельзя склеить со списком через `+`:"
   ]
  },
  {
   "cell_type": "code",
   "execution_count": 4,
   "metadata": {},
   "outputs": [
    {
     "data": {
      "text/plain": [
       "'Кассандра'"
      ]
     },
     "execution_count": 4,
     "metadata": {},
     "output_type": "execute_result"
    }
   ],
   "source": [
    "girls[2]"
   ]
  },
  {
   "cell_type": "code",
   "execution_count": 5,
   "metadata": {},
   "outputs": [
    {
     "ename": "TypeError",
     "evalue": "must be str, not list",
     "output_type": "error",
     "traceback": [
      "\u001b[0;31m---------------------------------------------------------------------------\u001b[0m",
      "\u001b[0;31mTypeError\u001b[0m                                 Traceback (most recent call last)",
      "\u001b[0;32m<ipython-input-5-a1f4eb3072bf>\u001b[0m in \u001b[0;36m<module>\u001b[0;34m()\u001b[0m\n\u001b[0;32m----> 1\u001b[0;31m \u001b[0mgirls\u001b[0m\u001b[0;34m[\u001b[0m\u001b[0;36m2\u001b[0m\u001b[0;34m]\u001b[0m \u001b[0;34m+\u001b[0m \u001b[0mgirls\u001b[0m\u001b[0;34m[\u001b[0m\u001b[0;36m4\u001b[0m\u001b[0;34m:\u001b[0m\u001b[0;36m6\u001b[0m\u001b[0;34m]\u001b[0m\u001b[0;34m\u001b[0m\u001b[0m\n\u001b[0m",
      "\u001b[0;31mTypeError\u001b[0m: must be str, not list"
     ]
    }
   ],
   "source": [
    "girls[2] + girls[4:6]"
   ]
  },
  {
   "cell_type": "markdown",
   "metadata": {},
   "source": [
    "В таком случае потребуются дополнительные квадратные скобки (правда это уже будет не так изящно):"
   ]
  },
  {
   "cell_type": "code",
   "execution_count": 6,
   "metadata": {},
   "outputs": [
    {
     "data": {
      "text/plain": [
       "['Кассандра', 'Амелия', 'Розамунда']"
      ]
     },
     "execution_count": 6,
     "metadata": {},
     "output_type": "execute_result"
    }
   ],
   "source": [
    "[girls[2]] + girls[4:6]"
   ]
  },
  {
   "cell_type": "markdown",
   "metadata": {},
   "source": [
    "Обратите внимание: срезы вида `L[k:k]` всегда пустые!"
   ]
  },
  {
   "cell_type": "code",
   "execution_count": 7,
   "metadata": {},
   "outputs": [
    {
     "data": {
      "text/plain": [
       "[]"
      ]
     },
     "execution_count": 7,
     "metadata": {},
     "output_type": "execute_result"
    }
   ],
   "source": [
    "girls[2:2] # срез от 2-ого элемента по 2-ой элемент, не включая 2-ой"
   ]
  },
  {
   "cell_type": "markdown",
   "metadata": {},
   "source": [
    "### Задача 2"
   ]
  },
  {
   "cell_type": "code",
   "execution_count": 8,
   "metadata": {},
   "outputs": [],
   "source": [
    "numbers = [1, 5, 6, 8, 10, 21, 25, 1, 0, -9, 9]"
   ]
  },
  {
   "cell_type": "code",
   "execution_count": 9,
   "metadata": {},
   "outputs": [
    {
     "name": "stdout",
     "output_type": "stream",
     "text": [
      "Введите целое число от 1 до 10: 3\n",
      "6\n"
     ]
    }
   ],
   "source": [
    "k = int(input(\"Введите целое число от 1 до 10: \"))\n",
    "print(numbers[k - 1])"
   ]
  },
  {
   "cell_type": "markdown",
   "metadata": {},
   "source": [
    "### Задача 3"
   ]
  },
  {
   "cell_type": "code",
   "execution_count": 10,
   "metadata": {},
   "outputs": [
    {
     "name": "stdout",
     "output_type": "stream",
     "text": [
      "5\n",
      "3\n",
      "5\n",
      "7\n"
     ]
    }
   ],
   "source": [
    "L = [1,2,3,4]\n",
    "\n",
    "for i in range(len(L)):\n",
    "    a = L[i] + L[i-1]\n",
    "    print(a)"
   ]
  },
  {
   "cell_type": "markdown",
   "metadata": {},
   "source": [
    "Разберем код на части. Что такое `range(len(L))`?"
   ]
  },
  {
   "cell_type": "code",
   "execution_count": 11,
   "metadata": {},
   "outputs": [
    {
     "data": {
      "text/plain": [
       "[0, 1, 2, 3]"
      ]
     },
     "execution_count": 11,
     "metadata": {},
     "output_type": "execute_result"
    }
   ],
   "source": [
    "list(range(len(L))) # индексы элементов списка L"
   ]
  },
  {
   "cell_type": "markdown",
   "metadata": {},
   "source": [
    "Значит цикл for бегает по индексам списка `L`. Тогда `L[i]` – это i-тый элемент списка `L`, а `L[i-1]` – элемент, предшествующий i-тому элементу. Эти два элемента складываются, и результат сохраняется в `a`.\n",
    "\n",
    "Посмотрим. Если `i = 0`, то получаем `L[0]` и `L[-1]`. Значит, на первом шаге (на первой итерации) цикла мы складываем первый и последний элементы списка.\n",
    "\n",
    "    1 + 4 = 5\n",
    "\n",
    "Двигаемся дальше. Если `i = 1`, то получаем `L[1]` и `L[0]`. Значит, на втором шаге цикла мы складываем второй и первый элементы списка.\n",
    "\n",
    "    2 + 1 = 3\n",
    "\n",
    "И так далее.\n",
    "\n",
    "Почему этот код интересен? Потому, что он не ломается: Python не возражает против отрицательных индексов элементов, он просто начинает считать элементы с конца списка."
   ]
  },
  {
   "cell_type": "markdown",
   "metadata": {},
   "source": [
    "### Задача 4\n",
    "\n",
    "На занятии было предложено не брать готовый список `income`, а запросить значения с клавиатуры и потом разбить строку на части с помощью `.split()`. Еще немного усложним задачу: будем вводить значения через запятую с пробелом."
   ]
  },
  {
   "cell_type": "code",
   "execution_count": 12,
   "metadata": {},
   "outputs": [
    {
     "name": "stdout",
     "output_type": "stream",
     "text": [
      "Enter income: 25000, 18000, 32000, 48000, 56000\n"
     ]
    }
   ],
   "source": [
    "values = input(\"Enter income: \")"
   ]
  },
  {
   "cell_type": "markdown",
   "metadata": {},
   "source": [
    "Избавляться от пробелов можно по-разному, мы же сначала разобьем строку по запятым, а потом у каждого элемента в получившемся списке уберем пробел. Заодно познакомимся с методом `.strip()`, который убирает лишние пробелы в начале и в конце строки, но сохраняет пробелы в середине (например, между словами). Пример:"
   ]
  },
  {
   "cell_type": "code",
   "execution_count": 14,
   "metadata": {},
   "outputs": [
    {
     "data": {
      "text/plain": [
       "'a b c'"
      ]
     },
     "execution_count": 14,
     "metadata": {},
     "output_type": "execute_result"
    }
   ],
   "source": [
    "\"   a b c \".strip()"
   ]
  },
  {
   "cell_type": "code",
   "execution_count": 15,
   "metadata": {},
   "outputs": [
    {
     "data": {
      "text/plain": [
       "['25000', ' 18000', ' 32000', ' 48000', ' 56000']"
      ]
     },
     "execution_count": 15,
     "metadata": {},
     "output_type": "execute_result"
    }
   ],
   "source": [
    "values2 = values.split(\",\")\n",
    "values2"
   ]
  },
  {
   "cell_type": "code",
   "execution_count": 16,
   "metadata": {},
   "outputs": [
    {
     "name": "stdout",
     "output_type": "stream",
     "text": [
      "[25000, 18000, 32000, 48000, 56000]\n"
     ]
    }
   ],
   "source": [
    "income = []\n",
    "for v in values2:\n",
    "    income.append(int(v.strip()))\n",
    "print(income)"
   ]
  },
  {
   "cell_type": "markdown",
   "metadata": {},
   "source": [
    "Давайте заодно посмотрим на альтернативу циклам при создании списков – на списковые включения (*list comprehensions*). Они позволяют создавать новые списки на основе старых более компактным и быстрым образом, без явных циклов. Чтобы понять, как они работают, нужно прочитать код с циклом снизу вверх: сначала что делаем, а потом – с чем."
   ]
  },
  {
   "cell_type": "code",
   "execution_count": 18,
   "metadata": {},
   "outputs": [
    {
     "data": {
      "text/plain": [
       "[25000, 18000, 32000, 48000, 56000]"
      ]
     },
     "execution_count": 18,
     "metadata": {},
     "output_type": "execute_result"
    }
   ],
   "source": [
    "income = [int(v.strip()) for v in values2] \n",
    "income"
   ]
  },
  {
   "cell_type": "markdown",
   "metadata": {},
   "source": [
    "Теперь таким же образом получим список из натуральных логарифмов:"
   ]
  },
  {
   "cell_type": "code",
   "execution_count": 19,
   "metadata": {},
   "outputs": [
    {
     "data": {
      "text/plain": [
       "[10.126631103850338,\n",
       " 9.798127036878302,\n",
       " 10.373491181781864,\n",
       " 10.778956289890028,\n",
       " 10.933106969717286]"
      ]
     },
     "execution_count": 19,
     "metadata": {},
     "output_type": "execute_result"
    }
   ],
   "source": [
    "import math\n",
    "log_income = [math.log(i) for i in income]\n",
    "log_income"
   ]
  },
  {
   "cell_type": "markdown",
   "metadata": {},
   "source": [
    "### Задача 5"
   ]
  },
  {
   "cell_type": "code",
   "execution_count": 20,
   "metadata": {},
   "outputs": [],
   "source": [
    "words = [\"Speak \",\"to\", \"me \", \"of\", \"Florence\" ,\"And \", \"of\", \"the\", \"Renaissance\"]"
   ]
  },
  {
   "cell_type": "markdown",
   "metadata": {},
   "source": [
    "Для закрепления воспользуемся списковыми включениями еще раз. Если учесть, что методы на одних и тех же объектах можно «наслаивать» друг на друга, получим очень лаконичное решение в одну строчку:"
   ]
  },
  {
   "cell_type": "code",
   "execution_count": 22,
   "metadata": {},
   "outputs": [
    {
     "data": {
      "text/plain": [
       "['speak', 'to', 'me', 'of', 'florence', 'and', 'of', 'the', 'renaissance']"
      ]
     },
     "execution_count": 22,
     "metadata": {},
     "output_type": "execute_result"
    }
   ],
   "source": [
    "words_clean = [w.lower().strip() for w in words]\n",
    "words_clean"
   ]
  },
  {
   "cell_type": "markdown",
   "metadata": {},
   "source": [
    "### Задача 6"
   ]
  },
  {
   "cell_type": "code",
   "execution_count": 23,
   "metadata": {},
   "outputs": [],
   "source": [
    "rept = {\"python\" : \" питон\", \"anaconda\" : \"анаконда\", \n",
    "        \"tortoize\" : \" черепаха\" }"
   ]
  },
  {
   "cell_type": "code",
   "execution_count": 25,
   "metadata": {},
   "outputs": [
    {
     "data": {
      "text/plain": [
       "{'python': ' питон',\n",
       " 'anaconda': 'анаконда',\n",
       " 'tortoize': ' черепаха',\n",
       " 'snake': 'змея'}"
      ]
     },
     "execution_count": 25,
     "metadata": {},
     "output_type": "execute_result"
    }
   ],
   "source": [
    "rept[\"snake\"] = \"змея\" # добавляем новую запись\n",
    "rept"
   ]
  },
  {
   "cell_type": "code",
   "execution_count": 26,
   "metadata": {},
   "outputs": [
    {
     "name": "stdout",
     "output_type": "stream",
     "text": [
      "{'python': ' питон', 'anaconda': 'анаконда', 'snake': 'змея'}\n"
     ]
    }
   ],
   "source": [
    "# сначала удалим запись с неправильным ключом\n",
    "del rept[\"tortoize\"]\n",
    "print(rept)"
   ]
  },
  {
   "cell_type": "code",
   "execution_count": 27,
   "metadata": {},
   "outputs": [
    {
     "name": "stdout",
     "output_type": "stream",
     "text": [
      "{'python': ' питон', 'anaconda': 'анаконда', 'snake': 'змея', 'tortoise': 'черепаха'}\n"
     ]
    }
   ],
   "source": [
    "# а теперь добавим с правильным\n",
    "rept[\"tortoise\"] = \"черепаха\"\n",
    "print(rept)"
   ]
  },
  {
   "cell_type": "code",
   "execution_count": 28,
   "metadata": {},
   "outputs": [
    {
     "name": "stdout",
     "output_type": "stream",
     "text": [
      " питон по-английски будет python;\n",
      "анаконда по-английски будет anaconda;\n",
      "змея по-английски будет snake;\n",
      "черепаха по-английски будет tortoise;\n"
     ]
    }
   ],
   "source": [
    "for k, v in rept.items():\n",
    "    print(v, \" по-английски будет \", k, \";\", sep = \"\")"
   ]
  },
  {
   "cell_type": "markdown",
   "metadata": {},
   "source": [
    "Чтобы убрать лишние пробелы в значениях (опечатка в условии), добавим `.strip()`:"
   ]
  },
  {
   "cell_type": "code",
   "execution_count": 29,
   "metadata": {},
   "outputs": [
    {
     "name": "stdout",
     "output_type": "stream",
     "text": [
      "питон по-английски будет python;\n",
      "анаконда по-английски будет anaconda;\n",
      "змея по-английски будет snake;\n",
      "черепаха по-английски будет tortoise;\n"
     ]
    }
   ],
   "source": [
    "for k, v in rept.items():\n",
    "    print(v.strip(), \" по-английски будет \", k, \";\", sep = \"\")"
   ]
  },
  {
   "cell_type": "markdown",
   "metadata": {},
   "source": [
    "Для большей выразительности сделаем первую букву заглавной и выделим английские слова:"
   ]
  },
  {
   "cell_type": "code",
   "execution_count": 31,
   "metadata": {},
   "outputs": [
    {
     "name": "stdout",
     "output_type": "stream",
     "text": [
      "Питон по-английски будет PYTHON;\n",
      "Анаконда по-английски будет ANACONDA;\n",
      "Змея по-английски будет SNAKE;\n",
      "Черепаха по-английски будет TORTOISE;\n"
     ]
    }
   ],
   "source": [
    "for k, v in rept.items():\n",
    "    print(v.strip().capitalize(), \" по-английски будет \", k.upper(), \";\", sep = \"\")"
   ]
  },
  {
   "cell_type": "markdown",
   "metadata": {},
   "source": [
    "### Задача 7"
   ]
  },
  {
   "cell_type": "code",
   "execution_count": 32,
   "metadata": {},
   "outputs": [],
   "source": [
    "cnt = [\"Andorra\", \"Belarus\", \"Denmark\", \n",
    "       \"Kenya\", \"Jamaica\", \"Romania\"]\n",
    "fh = [1.0, 6.0, 1.0, 4.0, 2.5, 2.0]"
   ]
  },
  {
   "cell_type": "markdown",
   "metadata": {},
   "source": [
    "Посмотрим на результат `zip()` (чтобы увидеть явно, нужно сконвертировать в список):"
   ]
  },
  {
   "cell_type": "code",
   "execution_count": 34,
   "metadata": {},
   "outputs": [
    {
     "data": {
      "text/plain": [
       "[('Andorra', 1.0),\n",
       " ('Belarus', 6.0),\n",
       " ('Denmark', 1.0),\n",
       " ('Kenya', 4.0),\n",
       " ('Jamaica', 2.5),\n",
       " ('Romania', 2.0)]"
      ]
     },
     "execution_count": 34,
     "metadata": {},
     "output_type": "execute_result"
    }
   ],
   "source": [
    "list(zip(cnt, fh)) # словарь в «разобранном» виде"
   ]
  },
  {
   "cell_type": "code",
   "execution_count": 35,
   "metadata": {},
   "outputs": [
    {
     "data": {
      "text/plain": [
       "{'Andorra': 1.0,\n",
       " 'Belarus': 6.0,\n",
       " 'Denmark': 1.0,\n",
       " 'Kenya': 4.0,\n",
       " 'Jamaica': 2.5,\n",
       " 'Romania': 2.0}"
      ]
     },
     "execution_count": 35,
     "metadata": {},
     "output_type": "execute_result"
    }
   ],
   "source": [
    "d = dict(zip(cnt, fh))\n",
    "d"
   ]
  },
  {
   "cell_type": "markdown",
   "metadata": {},
   "source": [
    "### Задача 8"
   ]
  },
  {
   "cell_type": "code",
   "execution_count": 38,
   "metadata": {},
   "outputs": [],
   "source": [
    "students = [\"Вася\", \"Маша\", \"Петя\", \"Дима\", \n",
    "            \"Марина\", \"Люба\", \"Коля\", \"Ваня\"]"
   ]
  },
  {
   "cell_type": "code",
   "execution_count": 39,
   "metadata": {},
   "outputs": [],
   "source": [
    "grades = {\"Вася\" : 4, \"Петя\" : 9, \"Марина\" : 8, \n",
    "          \"Люба\" : 4, \"Коля\" : 5, \"Ваня\": 10}"
   ]
  },
  {
   "cell_type": "code",
   "execution_count": 40,
   "metadata": {},
   "outputs": [
    {
     "name": "stdout",
     "output_type": "stream",
     "text": [
      "Вася 4\n",
      "Маша Контрольную работу не писал(а)\n",
      "Петя 9\n",
      "Дима Контрольную работу не писал(а)\n",
      "Марина 8\n",
      "Люба 4\n",
      "Коля 5\n",
      "Ваня 10\n"
     ]
    }
   ],
   "source": [
    "# 1\n",
    "for s in students:\n",
    "    print(s, grades.get(s, \"Контрольную работу не писал(а)\"))"
   ]
  },
  {
   "cell_type": "code",
   "execution_count": 41,
   "metadata": {},
   "outputs": [
    {
     "name": "stdout",
     "output_type": "stream",
     "text": [
      "Петя\n",
      "Марина\n",
      "Ваня\n"
     ]
    }
   ],
   "source": [
    "# 2\n",
    "for st, gr in grades.items():\n",
    "    if gr >= 8:\n",
    "        print(st)"
   ]
  },
  {
   "cell_type": "code",
   "execution_count": 42,
   "metadata": {},
   "outputs": [
    {
     "name": "stdout",
     "output_type": "stream",
     "text": [
      "['Петя', 'Марина', 'Ваня']\n",
      "['Вася', 'Люба', 'Коля']\n"
     ]
    }
   ],
   "source": [
    "# 3\n",
    "good = []\n",
    "bad = []\n",
    "\n",
    "for st, gr in grades.items():\n",
    "    if gr >= 6:\n",
    "        good.append(st)\n",
    "    else:\n",
    "        bad.append(st)\n",
    "\n",
    "print(good)\n",
    "print(bad)"
   ]
  },
  {
   "cell_type": "markdown",
   "metadata": {},
   "source": [
    "## Часть 2: условные конструкции и циклы"
   ]
  },
  {
   "cell_type": "markdown",
   "metadata": {},
   "source": [
    "### Задача 1\n",
    "Напишите программу, которая просит пользователя ввести положительное число, и если пользователь вводит положительное число, выводит на экран сообщение \"Молодец!\", если нет – \"Это не положительное число.\".\n",
    "\n",
    "Считайте, что пользователь в любом случае вводит числа, а не какой-то текст."
   ]
  },
  {
   "cell_type": "code",
   "execution_count": 2,
   "metadata": {},
   "outputs": [
    {
     "name": "stdout",
     "output_type": "stream",
     "text": [
      "Введите положительное число: 0\n",
      "Это не положительное число.\n"
     ]
    }
   ],
   "source": [
    "n = float(input(\"Введите положительное число: \"))\n",
    "if n > 0:\n",
    "    print(\"Молодец!\")\n",
    "else:\n",
    "    print(\"Это не положительное число.\")"
   ]
  },
  {
   "cell_type": "markdown",
   "metadata": {},
   "source": [
    "### Задача 2\n",
    "\n",
    "Обсудим позже."
   ]
  },
  {
   "cell_type": "markdown",
   "metadata": {},
   "source": [
    "### Задача 3\n",
    "\n",
    "У питона есть набор любимых чисел.\n",
    "\n",
    "    favorites = [3, 7, 11, 23, 18, 48, 81]\n",
    "\n",
    "Напишите программу, которая просит пользователя ввести целое число, и если оно нравится питону, на экран будет выводиться сообщение: \"Мое любимое число!\", если нет ‒ \"Эх, ну почему?\"."
   ]
  },
  {
   "cell_type": "code",
   "execution_count": 5,
   "metadata": {},
   "outputs": [
    {
     "name": "stdout",
     "output_type": "stream",
     "text": [
      "Введите целое число: 23\n",
      "Моё любимое число!\n"
     ]
    }
   ],
   "source": [
    "favorites = [3, 7, 11, 23, 18, 48, 81]\n",
    "\n",
    "k = int(input(\"Введите целое число: \"))\n",
    "\n",
    "if k in favorites:\n",
    "    print(\"Моё любимое число!\")\n",
    "else:\n",
    "    print(\"Эх, ну почему?\")"
   ]
  },
  {
   "cell_type": "markdown",
   "metadata": {},
   "source": [
    "### Задача 4\n",
    "\n",
    "Напишите программу, которая просит пользователя ввести число и, если оно чётное, выводит на экран сообщение: \"Это число чётное\", если нечётное – \"Это число нечётное\"."
   ]
  },
  {
   "cell_type": "code",
   "execution_count": 6,
   "metadata": {},
   "outputs": [
    {
     "name": "stdout",
     "output_type": "stream",
     "text": [
      "Введите число: 9\n",
      "Это число нечётное.\n"
     ]
    }
   ],
   "source": [
    "num = float(input(\"Введите число: \"))\n",
    "\n",
    "# здесь нам понадобится остаток от деления %\n",
    "\n",
    "if num % 2 == 0:\n",
    "    print(\"Это число чётное.\")\n",
    "else:\n",
    "    print(\"Это число нечётное.\")"
   ]
  }
 ],
 "metadata": {
  "kernelspec": {
   "display_name": "Python 3",
   "language": "python",
   "name": "python3"
  },
  "language_info": {
   "codemirror_mode": {
    "name": "ipython",
    "version": 3
   },
   "file_extension": ".py",
   "mimetype": "text/x-python",
   "name": "python",
   "nbconvert_exporter": "python",
   "pygments_lexer": "ipython3",
   "version": "3.6.5"
  }
 },
 "nbformat": 4,
 "nbformat_minor": 2
}
